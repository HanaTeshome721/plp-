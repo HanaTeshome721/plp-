{
 "cells": [
  {
   "cell_type": "markdown",
   "id": "416c8fe2",
   "metadata": {},
   "source": [
    "# 📊 Analyzing Data with Pandas and Visualizing Results with Matplotlib\n",
    "This notebook demonstrates how to use **Pandas** for data analysis and **Matplotlib** for visualization."
   ]
  },
  {
   "cell_type": "code",
   "execution_count": null,
   "id": "6c4daf4e",
   "metadata": {},
   "outputs": [],
   "source": [
    "import pandas as pd\n",
    "import matplotlib.pyplot as plt\n",
    "\n",
    "# Display plots inline\n",
    "%matplotlib inline"
   ]
  },
  {
   "cell_type": "markdown",
   "id": "b627086a",
   "metadata": {},
   "source": [
    "## 1. Loading and Exploring Data"
   ]
  },
  {
   "cell_type": "code",
   "execution_count": null,
   "id": "ce16a426",
   "metadata": {},
   "outputs": [],
   "source": [
    "from sklearn.datasets import load_iris\n",
    "\n",
    "# Load iris dataset\n",
    "iris = load_iris(as_frame=True)\n",
    "df = iris.frame\n",
    "\n",
    "# Display first 5 rows\n",
    "df.head()"
   ]
  },
  {
   "cell_type": "markdown",
   "id": "29aef20c",
   "metadata": {},
   "source": [
    "## 2. Data Exploration"
   ]
  },
  {
   "cell_type": "code",
   "execution_count": null,
   "id": "0d97db1b",
   "metadata": {},
   "outputs": [],
   "source": [
    "df.info()"
   ]
  },
  {
   "cell_type": "code",
   "execution_count": null,
   "id": "5b52f91f",
   "metadata": {},
   "outputs": [],
   "source": [
    "df.describe()"
   ]
  },
  {
   "cell_type": "markdown",
   "id": "7d8f5d82",
   "metadata": {},
   "source": [
    "## 3. Data Cleaning & Transformation\n",
    "Here, we'll check for missing values and demonstrate basic transformation."
   ]
  },
  {
   "cell_type": "code",
   "execution_count": null,
   "id": "47489c96",
   "metadata": {},
   "outputs": [],
   "source": [
    "df.isnull().sum()"
   ]
  },
  {
   "cell_type": "code",
   "execution_count": null,
   "id": "4fa279c2",
   "metadata": {},
   "outputs": [],
   "source": [
    "# Example transformation: create a new column for petal area\n",
    "df['petal area'] = df['petal length (cm)'] * df['petal width (cm)']\n",
    "df.head()"
   ]
  },
  {
   "cell_type": "markdown",
   "id": "9eac16cf",
   "metadata": {},
   "source": [
    "## 4. Data Visualization with Matplotlib"
   ]
  },
  {
   "cell_type": "code",
   "execution_count": null,
   "id": "0108f9e0",
   "metadata": {},
   "outputs": [],
   "source": [
    "plt.hist(df['sepal length (cm)'], bins=20, color='skyblue', edgecolor='black')\n",
    "plt.title('Distribution of Sepal Length')\n",
    "plt.xlabel('Sepal Length (cm)')\n",
    "plt.ylabel('Frequency')\n",
    "plt.show()"
   ]
  },
  {
   "cell_type": "code",
   "execution_count": null,
   "id": "4e8686a2",
   "metadata": {},
   "outputs": [],
   "source": [
    "plt.scatter(df['sepal length (cm)'], df['petal length (cm)'], c=df['target'], cmap='viridis')\n",
    "plt.title('Sepal Length vs Petal Length')\n",
    "plt.xlabel('Sepal Length (cm)')\n",
    "plt.ylabel('Petal Length (cm)')\n",
    "plt.colorbar(label='Target Class')\n",
    "plt.show()"
   ]
  },
  {
   "cell_type": "code",
   "execution_count": null,
   "id": "d2632adf",
   "metadata": {},
   "outputs": [],
   "source": [
    "plt.boxplot([df['sepal width (cm)'], df['petal width (cm)']], labels=['Sepal Width', 'Petal Width'])\n",
    "plt.title('Boxplot of Sepal and Petal Width')\n",
    "plt.show()"
   ]
  },
  {
   "cell_type": "code",
   "execution_count": null,
   "id": "430775d4",
   "metadata": {},
   "outputs": [],
   "source": [
    "df.groupby('target')[['sepal length (cm)','petal length (cm)']].mean().plot(kind='bar')\n",
    "plt.title('Average Sepal & Petal Length by Class')\n",
    "plt.ylabel('cm')\n",
    "plt.show()"
   ]
  },
  {
   "cell_type": "markdown",
   "id": "41f42518",
   "metadata": {},
   "source": [
    "## 5. Insights & Conclusion\n",
    "- Pandas allows us to efficiently clean, transform, and explore datasets.\n",
    "- Matplotlib provides versatile plotting capabilities for uncovering trends and patterns.\n",
    "- Together, they enable effective **data analysis and storytelling**."
   ]
  }
 ],
 "metadata": {},
 "nbformat": 4,
 "nbformat_minor": 5
}
